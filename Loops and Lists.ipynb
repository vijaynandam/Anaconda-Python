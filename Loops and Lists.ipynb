{
 "cells": [
  {
   "cell_type": "markdown",
   "metadata": {},
   "source": [
    "## Sequence data type : Range()"
   ]
  },
  {
   "cell_type": "code",
   "execution_count": null,
   "metadata": {},
   "outputs": [],
   "source": []
  },
  {
   "cell_type": "code",
   "execution_count": 1,
   "metadata": {},
   "outputs": [
    {
     "name": "stdout",
     "output_type": "stream",
     "text": [
      "[0, 1, 2, 3, 4]\n"
     ]
    }
   ],
   "source": [
    "x=list(range(5)) # 0,1,2,3,4, displays numbers upto 5 not including 5\n",
    "print(x)\n"
   ]
  },
  {
   "cell_type": "code",
   "execution_count": 17,
   "metadata": {},
   "outputs": [
    {
     "name": "stdout",
     "output_type": "stream",
     "text": [
      "0\n",
      "1\n",
      "2\n",
      "3\n",
      "4\n"
     ]
    }
   ],
   "source": [
    "# range starts from 0\n",
    "for i in range(5):  # in is a operator - which takes each value from the range()\n",
    "    print(i)"
   ]
  },
  {
   "cell_type": "code",
   "execution_count": 7,
   "metadata": {},
   "outputs": [
    {
     "name": "stdout",
     "output_type": "stream",
     "text": [
      "5\n",
      "6\n",
      "7\n",
      "8\n",
      "9\n"
     ]
    }
   ],
   "source": [
    "for i in range(5,10): # start with 5 upto 10\n",
    "    print(i)"
   ]
  },
  {
   "cell_type": "code",
   "execution_count": 16,
   "metadata": {},
   "outputs": [
    {
     "name": "stdout",
     "output_type": "stream",
     "text": [
      "10\n",
      "12\n",
      "14\n",
      "16\n",
      "18\n",
      "20\n",
      "22\n",
      "24\n"
     ]
    }
   ],
   "source": [
    "# start , end and increment steps\n",
    "for i in range(10,25,2):\n",
    "    print(i)"
   ]
  },
  {
   "cell_type": "code",
   "execution_count": 12,
   "metadata": {},
   "outputs": [
    {
     "name": "stdout",
     "output_type": "stream",
     "text": [
      "-5\n",
      "-2\n",
      "1\n",
      "4\n"
     ]
    }
   ],
   "source": [
    "#use -ve values in to range()\n",
    "for i in range(-5,5,3):\n",
    "    print(i)"
   ]
  },
  {
   "cell_type": "code",
   "execution_count": 15,
   "metadata": {},
   "outputs": [
    {
     "name": "stdout",
     "output_type": "stream",
     "text": [
      "-10\n",
      "-12\n",
      "-14\n",
      "-16\n",
      "-18\n",
      "-20\n",
      "-22\n",
      "-24\n"
     ]
    }
   ],
   "source": [
    "#all -ve values\n",
    "for i in range(-10,-25,-2):\n",
    "    print(i)"
   ]
  },
  {
   "cell_type": "markdown",
   "metadata": {},
   "source": [
    "### list is sequence of value s in [ ] "
   ]
  },
  {
   "cell_type": "code",
   "execution_count": 19,
   "metadata": {},
   "outputs": [
    {
     "name": "stdout",
     "output_type": "stream",
     "text": [
      "<type 'list'>\n"
     ]
    }
   ],
   "source": [
    "# list of values\n",
    "even=[2,4,68]\n",
    "print(type(even))"
   ]
  },
  {
   "cell_type": "code",
   "execution_count": 23,
   "metadata": {},
   "outputs": [
    {
     "name": "stdout",
     "output_type": "stream",
     "text": [
      "['apple', 'grapes', 'mango', 'pear']\n"
     ]
    }
   ],
   "source": [
    "# list of string values\n",
    "fruits=['apple','grapes','mango','pear']\n",
    "print((fruits))"
   ]
  },
  {
   "cell_type": "code",
   "execution_count": 24,
   "metadata": {},
   "outputs": [],
   "source": [
    "# list of real values\n",
    "y=[1.5,3,4.9,7,5.45]\n",
    "flags=[True,False,True,True,False]"
   ]
  },
  {
   "cell_type": "code",
   "execution_count": 29,
   "metadata": {},
   "outputs": [],
   "source": [
    "# list of complex data\n",
    "complx=[1,3.5,True,'Vijay',7.7,False]"
   ]
  },
  {
   "cell_type": "code",
   "execution_count": 30,
   "metadata": {},
   "outputs": [
    {
     "name": "stdout",
     "output_type": "stream",
     "text": [
      "6\n",
      "5\n"
     ]
    }
   ],
   "source": [
    "# number of elements in the list - len()\n",
    "print(len(complx))\n",
    "print(len(flags))"
   ]
  },
  {
   "cell_type": "code",
   "execution_count": 31,
   "metadata": {},
   "outputs": [
    {
     "name": "stdout",
     "output_type": "stream",
     "text": [
      "['apple', 'grapes', 'mango', 'pear']\n",
      "['apple', 'grapes', 'mango', 'pear']\n",
      "['apple', 'grapes', 'mango', 'pear']\n",
      "['apple', 'grapes', 'mango', 'pear']\n"
     ]
    }
   ],
   "source": [
    "# list in the for loop\n",
    "for i in fruits:\n",
    "    print(fruits)"
   ]
  },
  {
   "cell_type": "code",
   "execution_count": 32,
   "metadata": {},
   "outputs": [
    {
     "name": "stdout",
     "output_type": "stream",
     "text": [
      "['apple', 'grapes', 'mango', 'pear']\n",
      "['apple', 'grapes', 'mango', 'pear']\n",
      "['apple', 'grapes', 'mango', 'pear']\n",
      "['apple', 'grapes', 'mango', 'pear']\n"
     ]
    }
   ],
   "source": [
    "# list in the for loop\n",
    "for i in fruits:\n",
    "    print(fruits)"
   ]
  },
  {
   "cell_type": "markdown",
   "metadata": {},
   "source": [
    "### in operator takes each elements of the sequence range() list"
   ]
  },
  {
   "cell_type": "code",
   "execution_count": 33,
   "metadata": {},
   "outputs": [
    {
     "data": {
      "text/plain": [
       "[2, 4, 68]"
      ]
     },
     "execution_count": 33,
     "metadata": {},
     "output_type": "execute_result"
    }
   ],
   "source": [
    "even"
   ]
  },
  {
   "cell_type": "code",
   "execution_count": 41,
   "metadata": {},
   "outputs": [
    {
     "name": "stdout",
     "output_type": "stream",
     "text": [
      "('sum of elements = ', 74)\n"
     ]
    }
   ],
   "source": [
    "# sum of the elemetsn in the list\n",
    "sum=0\n",
    "for element in even:\n",
    "    sum+=element\n",
    "print(\"sum of elements = \",sum)"
   ]
  },
  {
   "cell_type": "code",
   "execution_count": 42,
   "metadata": {},
   "outputs": [
    {
     "ename": "TypeError",
     "evalue": "'int' object is not callable",
     "output_type": "error",
     "traceback": [
      "\u001b[1;31m---------------------------------------------------------------------------\u001b[0m",
      "\u001b[1;31mTypeError\u001b[0m                                 Traceback (most recent call last)",
      "\u001b[1;32m<ipython-input-42-3faeb5010cb6>\u001b[0m in \u001b[0;36m<module>\u001b[1;34m()\u001b[0m\n\u001b[1;32m----> 1\u001b[1;33m \u001b[0msum\u001b[0m\u001b[1;33m(\u001b[0m\u001b[0meven\u001b[0m\u001b[1;33m)\u001b[0m\u001b[1;33m\u001b[0m\u001b[0m\n\u001b[0m",
      "\u001b[1;31mTypeError\u001b[0m: 'int' object is not callable"
     ]
    }
   ],
   "source": [
    "sum(even)"
   ]
  },
  {
   "cell_type": "code",
   "execution_count": 40,
   "metadata": {},
   "outputs": [
    {
     "ename": "TypeError",
     "evalue": "'int' object is not callable",
     "output_type": "error",
     "traceback": [
      "\u001b[1;31m---------------------------------------------------------------------------\u001b[0m",
      "\u001b[1;31mTypeError\u001b[0m                                 Traceback (most recent call last)",
      "\u001b[1;32m<ipython-input-40-6eef615631e9>\u001b[0m in \u001b[0;36m<module>\u001b[1;34m()\u001b[0m\n\u001b[0;32m      1\u001b[0m \u001b[1;31m# library function for sum of list\u001b[0m\u001b[1;33m\u001b[0m\u001b[1;33m\u001b[0m\u001b[0m\n\u001b[1;32m----> 2\u001b[1;33m \u001b[0mtotal\u001b[0m \u001b[1;33m=\u001b[0m\u001b[0mint\u001b[0m\u001b[1;33m(\u001b[0m\u001b[0msum\u001b[0m\u001b[1;33m(\u001b[0m\u001b[0meven\u001b[0m\u001b[1;33m)\u001b[0m\u001b[1;33m)\u001b[0m\u001b[1;33m\u001b[0m\u001b[0m\n\u001b[0m\u001b[0;32m      3\u001b[0m \u001b[1;32mprint\u001b[0m\u001b[1;33m(\u001b[0m\u001b[0mtotal\u001b[0m\u001b[1;33m)\u001b[0m\u001b[1;33m\u001b[0m\u001b[0m\n",
      "\u001b[1;31mTypeError\u001b[0m: 'int' object is not callable"
     ]
    }
   ],
   "source": [
    "# library function for sum of list\n",
    "total =int(sum(even))\n",
    "print(total)"
   ]
  },
  {
   "cell_type": "code",
   "execution_count": 49,
   "metadata": {},
   "outputs": [
    {
     "name": "stdout",
     "output_type": "stream",
     "text": [
      "number 5\n",
      "prime\n"
     ]
    }
   ],
   "source": [
    "# for loop if given number os prime\n",
    "n=int(input(\"number \"))\n",
    "for i in range(2, n//2+1):\n",
    "    if n%i==0:\n",
    "       print(\"not prime number \")\n",
    "       break\n",
    "else:\n",
    "    print(\"prime\")"
   ]
  },
  {
   "cell_type": "code",
   "execution_count": 58,
   "metadata": {},
   "outputs": [
    {
     "name": "stdout",
     "output_type": "stream",
     "text": [
      "(10, 'not prime number ')\n",
      "(11, 'prime')\n",
      "(12, 'not prime number ')\n",
      "(13, 'prime')\n",
      "(14, 'not prime number ')\n",
      "(15, 'not prime number ')\n",
      "(16, 'not prime number ')\n",
      "(17, 'prime')\n",
      "(18, 'not prime number ')\n",
      "(19, 'prime')\n",
      "(20, 'not prime number ')\n",
      "(21, 'not prime number ')\n",
      "(22, 'not prime number ')\n",
      "(23, 'prime')\n",
      "(24, 'not prime number ')\n",
      "(25, 'not prime number ')\n",
      "(26, 'not prime number ')\n",
      "(27, 'not prime number ')\n",
      "(28, 'not prime number ')\n",
      "(29, 'prime')\n"
     ]
    }
   ],
   "source": [
    "# nested for - loop\n",
    "\n",
    "for n in range(10,30):\n",
    "    for i in range(2, n//2+1):\n",
    "        if n%i==0:\n",
    "                print(n, \"not prime number \")\n",
    "                break\n",
    "    else:\n",
    "         print(n, \"prime\")"
   ]
  },
  {
   "cell_type": "code",
   "execution_count": 59,
   "metadata": {},
   "outputs": [
    {
     "name": "stdout",
     "output_type": "stream",
     "text": [
      "(11, 'prime')\n",
      "(13, 'prime')\n",
      "(17, 'prime')\n",
      "(19, 'prime')\n",
      "(23, 'prime')\n",
      "(29, 'prime')\n"
     ]
    }
   ],
   "source": [
    "# nested for - loop\n",
    "\n",
    "for n in range(10,30):\n",
    "    for i in range(2, n//2+1):\n",
    "        if n%i==0:\n",
    "               # print(n, \"not prime number \")\n",
    "                break\n",
    "    else:\n",
    "         print(n, \"prime\")"
   ]
  },
  {
   "cell_type": "code",
   "execution_count": 68,
   "metadata": {},
   "outputs": [
    {
     "name": "stdout",
     "output_type": "stream",
     "text": [
      "Size of the square 3\n",
      "A \n",
      "A \n",
      "A \n",
      "A \n",
      "A \n",
      "A \n",
      "A \n",
      "A \n",
      "A \n"
     ]
    }
   ],
   "source": [
    "# square diagram of A\n",
    "size=int(input(\"Size of the square \"))\n",
    "for n in range(size):\n",
    "    for j in range(size):\n",
    "        print('A ')\n",
    "    "
   ]
  },
  {
   "cell_type": "code",
   "execution_count": 69,
   "metadata": {},
   "outputs": [
    {
     "ename": "IndentationError",
     "evalue": "expected an indented block (<ipython-input-69-e7047a0ff03c>, line 2)",
     "output_type": "error",
     "traceback": [
      "\u001b[1;36m  File \u001b[1;32m\"<ipython-input-69-e7047a0ff03c>\"\u001b[1;36m, line \u001b[1;32m2\u001b[0m\n\u001b[1;33m    for i in range(5):\u001b[0m\n\u001b[1;37m                      ^\u001b[0m\n\u001b[1;31mIndentationError\u001b[0m\u001b[1;31m:\u001b[0m expected an indented block\n"
     ]
    }
   ],
   "source": [
    "# we cannot have empty for - loop\n",
    "for i in range(5):"
   ]
  },
  {
   "cell_type": "code",
   "execution_count": 70,
   "metadata": {},
   "outputs": [
    {
     "data": {
      "text/plain": [
       "['apple', 'grapes', 'mango', 'pear']"
      ]
     },
     "execution_count": 70,
     "metadata": {},
     "output_type": "execute_result"
    }
   ],
   "source": [
    "fruits"
   ]
  },
  {
   "cell_type": "code",
   "execution_count": 71,
   "metadata": {},
   "outputs": [
    {
     "data": {
      "text/plain": [
       "4"
      ]
     },
     "execution_count": 71,
     "metadata": {},
     "output_type": "execute_result"
    }
   ],
   "source": [
    "len(fruits)"
   ]
  },
  {
   "cell_type": "markdown",
   "metadata": {},
   "source": [
    "### indexing of the list"
   ]
  },
  {
   "cell_type": "code",
   "execution_count": 73,
   "metadata": {},
   "outputs": [
    {
     "name": "stdout",
     "output_type": "stream",
     "text": [
      "['apple', 'grapes', 'mango', 'pear']\n",
      "pear\n"
     ]
    }
   ],
   "source": [
    "# index of list starts from - 0\n",
    "print(fruits)\n",
    "print(fruits[3])"
   ]
  },
  {
   "cell_type": "code",
   "execution_count": 78,
   "metadata": {},
   "outputs": [
    {
     "name": "stdout",
     "output_type": "stream",
     "text": [
      "['apple', 'grapes', 'mango', 'pear']\n",
      "['grapes', 'mango']\n"
     ]
    }
   ],
   "source": [
    "print(fruits)\n",
    "print(fruits[1:3])"
   ]
  },
  {
   "cell_type": "code",
   "execution_count": 80,
   "metadata": {},
   "outputs": [
    {
     "name": "stdout",
     "output_type": "stream",
     "text": [
      "['apple', 'grapes', 'mango', 'pear']\n",
      "['apple', 'grapes', 'mango']\n"
     ]
    }
   ],
   "source": [
    "# elements upto 3\n",
    "print(fruits)\n",
    "print(fruits[:3])"
   ]
  },
  {
   "cell_type": "code",
   "execution_count": 84,
   "metadata": {},
   "outputs": [
    {
     "name": "stdout",
     "output_type": "stream",
     "text": [
      "['apple', 'grapes', 'mango', 'pear']\n",
      "['grapes', 'mango', 'pear']\n"
     ]
    }
   ],
   "source": [
    "# elements 2 to last\n",
    "print(fruits)\n",
    "print(fruits[1:])"
   ]
  },
  {
   "cell_type": "code",
   "execution_count": 85,
   "metadata": {},
   "outputs": [
    {
     "data": {
      "text/plain": [
       "['apple', 'grapes', 'mango', 'pear']"
      ]
     },
     "execution_count": 85,
     "metadata": {},
     "output_type": "execute_result"
    }
   ],
   "source": [
    "fruits[:]"
   ]
  },
  {
   "cell_type": "code",
   "execution_count": 92,
   "metadata": {},
   "outputs": [
    {
     "name": "stdout",
     "output_type": "stream",
     "text": [
      "['apple', 'grapes', 'banana', 'pear']\n",
      "['apple', 'grapes']\n"
     ]
    }
   ],
   "source": [
    "# elements from start to last - 2\n",
    "print(fruits)\n",
    "print(fruits[:-2])"
   ]
  },
  {
   "cell_type": "code",
   "execution_count": 91,
   "metadata": {},
   "outputs": [
    {
     "name": "stdout",
     "output_type": "stream",
     "text": [
      "['apple', 'grapes', 'banana', 'pear']\n",
      "['apple', 'grapes', 'banana', 'pear']\n"
     ]
    }
   ],
   "source": [
    "# change the elements of list\n",
    "\n",
    "print(fruits)\n",
    "fruits[2]='banana'\n",
    "print(fruits)"
   ]
  },
  {
   "cell_type": "code",
   "execution_count": 93,
   "metadata": {},
   "outputs": [
    {
     "name": "stdout",
     "output_type": "stream",
     "text": [
      "[1, 2, 3, 3, 4, 5, 6]\n"
     ]
    }
   ],
   "source": [
    "# + concatenate 2 lists\n",
    "x=[1,2,3]\n",
    "y=[3,4,5,6]\n",
    "z=x+y\n",
    "print(z)"
   ]
  },
  {
   "cell_type": "code",
   "execution_count": 94,
   "metadata": {},
   "outputs": [
    {
     "name": "stdout",
     "output_type": "stream",
     "text": [
      "[3, 4, 5, 6, 1, 2, 3]\n"
     ]
    }
   ],
   "source": [
    "zn=y+x\n",
    "print(zn)"
   ]
  },
  {
   "cell_type": "code",
   "execution_count": 95,
   "metadata": {},
   "outputs": [
    {
     "name": "stdout",
     "output_type": "stream",
     "text": [
      "[1, 2, 3, 3, 4, 5, 6]\n",
      "[1, 2, 3, 300]\n"
     ]
    }
   ],
   "source": [
    "x=[1,2,3]\n",
    "y=[3,4,5,6]\n",
    "z=x+y\n",
    "print(z)\n",
    "print(x+[300])"
   ]
  },
  {
   "cell_type": "code",
   "execution_count": 98,
   "metadata": {},
   "outputs": [
    {
     "name": "stdout",
     "output_type": "stream",
     "text": [
      "[2, 4, 68]\n",
      "[2, 4, 68, 200]\n"
     ]
    }
   ],
   "source": [
    "# append a value to list\n",
    "print(even)\n",
    "even.append(200)\n",
    "print(even)"
   ]
  },
  {
   "cell_type": "code",
   "execution_count": 100,
   "metadata": {},
   "outputs": [
    {
     "name": "stdout",
     "output_type": "stream",
     "text": [
      "[2, 4, 68, 200, 100]\n",
      "[2, 4, 68, 200, 100, 100]\n"
     ]
    }
   ],
   "source": [
    "# insert a value to list\n",
    "print(even)\n",
    "even.insert(4,100)\n",
    "print(even)"
   ]
  },
  {
   "cell_type": "code",
   "execution_count": 101,
   "metadata": {},
   "outputs": [
    {
     "data": {
      "text/plain": [
       "4"
      ]
     },
     "execution_count": 101,
     "metadata": {},
     "output_type": "execute_result"
    }
   ],
   "source": [
    "even.index(100)"
   ]
  },
  {
   "cell_type": "code",
   "execution_count": 102,
   "metadata": {},
   "outputs": [
    {
     "data": {
      "text/plain": [
       "4"
      ]
     },
     "execution_count": 102,
     "metadata": {},
     "output_type": "execute_result"
    }
   ],
   "source": [
    "#search for the element index\n",
    "even.index(100,4)"
   ]
  },
  {
   "cell_type": "code",
   "execution_count": 105,
   "metadata": {},
   "outputs": [
    {
     "name": "stdout",
     "output_type": "stream",
     "text": [
      "[2, 4, 68, 200, 100, 100]\n",
      "[2, 4, 68, 200, 100]\n"
     ]
    }
   ],
   "source": [
    "# delete the specified element\n",
    "print(even)\n",
    "even.remove(100)\n",
    "print(even)"
   ]
  },
  {
   "cell_type": "code",
   "execution_count": 106,
   "metadata": {},
   "outputs": [
    {
     "name": "stdout",
     "output_type": "stream",
     "text": [
      "[2, 4, 68, 200, 100]\n",
      "[2, 68, 200, 100]\n"
     ]
    }
   ],
   "source": [
    "print(even)\n",
    "even.remove(4)\n",
    "print(even)"
   ]
  },
  {
   "cell_type": "code",
   "execution_count": 107,
   "metadata": {},
   "outputs": [
    {
     "name": "stdout",
     "output_type": "stream",
     "text": [
      "[2, 68, 200, 100]\n",
      "[2, 68, 200, 100, 500]\n"
     ]
    }
   ],
   "source": [
    "print(even)\n",
    "even.insert(5,500)\n",
    "print(even)"
   ]
  },
  {
   "cell_type": "code",
   "execution_count": 109,
   "metadata": {},
   "outputs": [
    {
     "name": "stdout",
     "output_type": "stream",
     "text": [
      "[2, 68, 200, 100, 500, 8, 12, 46, 88, 8, 12, 46, 88]\n"
     ]
    }
   ],
   "source": [
    "# add elements\n",
    "even=even+[8,12,46,88]\n",
    "print(even)"
   ]
  },
  {
   "cell_type": "code",
   "execution_count": 110,
   "metadata": {},
   "outputs": [
    {
     "data": {
      "text/plain": [
       "2"
      ]
     },
     "execution_count": 110,
     "metadata": {},
     "output_type": "execute_result"
    }
   ],
   "source": [
    "# frequency of an element\n",
    "even.count(8)"
   ]
  },
  {
   "cell_type": "code",
   "execution_count": 111,
   "metadata": {},
   "outputs": [
    {
     "name": "stdout",
     "output_type": "stream",
     "text": [
      "[2, 68, 200, 100, 500, 8, 12, 46, 88, 8, 12, 46, 88]\n",
      "[2, 68, 200, 100, 8, 12, 46, 88, 8, 12, 46, 88]\n"
     ]
    }
   ],
   "source": [
    "# pop element by index\n",
    "print(even)\n",
    "even.pop(4)\n",
    "print(even)"
   ]
  },
  {
   "cell_type": "code",
   "execution_count": 113,
   "metadata": {},
   "outputs": [
    {
     "name": "stdout",
     "output_type": "stream",
     "text": [
      "[2, 68, 200, 100, 8, 12, 46, 88, 8, 12, 46]\n",
      "[2, 68, 200, 100, 8, 12, 46, 88, 8, 12]\n"
     ]
    }
   ],
   "source": [
    "# remove element without index - lasst element is removed\n",
    "print(even)\n",
    "even.pop()\n",
    "print(even)"
   ]
  },
  {
   "cell_type": "code",
   "execution_count": 114,
   "metadata": {},
   "outputs": [
    {
     "name": "stdout",
     "output_type": "stream",
     "text": [
      "[2, 68, 200, 100, 8, 12, 46, 88, 8, 12]\n",
      "[2, 68, 8, 12, 46, 88, 8, 12]\n"
     ]
    }
   ],
   "source": [
    "# delete a range of values\n",
    "print(even)\n",
    "del even[2:4]\n",
    "print(even)"
   ]
  },
  {
   "cell_type": "code",
   "execution_count": 115,
   "metadata": {},
   "outputs": [
    {
     "name": "stdout",
     "output_type": "stream",
     "text": [
      "[2, 68, 8, 12, 46, 88, 8, 12]\n"
     ]
    },
    {
     "ename": "AttributeError",
     "evalue": "'list' object has no attribute 'clear'",
     "output_type": "error",
     "traceback": [
      "\u001b[1;31m---------------------------------------------------------------------------\u001b[0m",
      "\u001b[1;31mAttributeError\u001b[0m                            Traceback (most recent call last)",
      "\u001b[1;32m<ipython-input-115-d369b5d92024>\u001b[0m in \u001b[0;36m<module>\u001b[1;34m()\u001b[0m\n\u001b[0;32m      1\u001b[0m \u001b[1;31m# clear list\u001b[0m\u001b[1;33m\u001b[0m\u001b[1;33m\u001b[0m\u001b[0m\n\u001b[0;32m      2\u001b[0m \u001b[1;32mprint\u001b[0m\u001b[1;33m(\u001b[0m\u001b[0meven\u001b[0m\u001b[1;33m)\u001b[0m\u001b[1;33m\u001b[0m\u001b[0m\n\u001b[1;32m----> 3\u001b[1;33m \u001b[0meven\u001b[0m\u001b[1;33m.\u001b[0m\u001b[0mclear\u001b[0m\u001b[1;33m(\u001b[0m\u001b[1;33m)\u001b[0m\u001b[1;33m\u001b[0m\u001b[0m\n\u001b[0m\u001b[0;32m      4\u001b[0m \u001b[1;32mprint\u001b[0m\u001b[1;33m(\u001b[0m\u001b[0meven\u001b[0m\u001b[1;33m)\u001b[0m\u001b[1;33m\u001b[0m\u001b[0m\n",
      "\u001b[1;31mAttributeError\u001b[0m: 'list' object has no attribute 'clear'"
     ]
    }
   ],
   "source": [
    "# clear list\n",
    "print(even)\n",
    "even.clear()\n",
    "print(even)"
   ]
  },
  {
   "cell_type": "code",
   "execution_count": 117,
   "metadata": {},
   "outputs": [
    {
     "name": "stdout",
     "output_type": "stream",
     "text": [
      "[2, 68, 8, 12, 46, 88, 8, 12]\n",
      "[]\n"
     ]
    }
   ],
   "source": [
    "# create a empty list\n",
    "print(even)\n",
    "l=[]\n",
    "print(l)"
   ]
  },
  {
   "cell_type": "code",
   "execution_count": 118,
   "metadata": {},
   "outputs": [
    {
     "name": "stdout",
     "output_type": "stream",
     "text": [
      "[]\n"
     ]
    }
   ],
   "source": [
    "# create a empty list\n",
    "l=list()\n",
    "print(l)"
   ]
  },
  {
   "cell_type": "markdown",
   "metadata": {},
   "source": [
    "### Stack: add values and remove at top LIFO"
   ]
  },
  {
   "cell_type": "code",
   "execution_count": 119,
   "metadata": {},
   "outputs": [
    {
     "name": "stdout",
     "output_type": "stream",
     "text": [
      "Enter the element 1\n",
      "[1]\n",
      "Enter the element 2\n",
      "[1, 2]\n",
      "Enter the element 3\n",
      "[1, 2, 3]\n",
      "Enter the element 5\n",
      "[1, 2, 3, 5]\n",
      "Enter the element 7\n",
      "[1, 2, 3, 5, 7]\n"
     ]
    }
   ],
   "source": [
    "# create a list from the user\n",
    "ls=[]\n",
    "for i in range(5):\n",
    "    element=input(\"Enter the element \")\n",
    "    ls.append(element)\n",
    "    print(ls)\n",
    "    "
   ]
  },
  {
   "cell_type": "code",
   "execution_count": 120,
   "metadata": {},
   "outputs": [
    {
     "data": {
      "text/plain": [
       "[1, 3.5, True, 'Vijay', 7.7, False]"
      ]
     },
     "execution_count": 120,
     "metadata": {},
     "output_type": "execute_result"
    }
   ],
   "source": [
    "complx\n"
   ]
  },
  {
   "cell_type": "code",
   "execution_count": 121,
   "metadata": {},
   "outputs": [
    {
     "name": "stdout",
     "output_type": "stream",
     "text": [
      "<type 'int'>\n",
      "<type 'float'>\n",
      "<type 'bool'>\n",
      "<type 'str'>\n",
      "<type 'float'>\n",
      "<type 'bool'>\n"
     ]
    }
   ],
   "source": [
    "for i in complx:\n",
    "    print(type(i))\n",
    "    "
   ]
  },
  {
   "cell_type": "code",
   "execution_count": 122,
   "metadata": {},
   "outputs": [],
   "source": [
    "complx.append(10+5j)"
   ]
  },
  {
   "cell_type": "code",
   "execution_count": 123,
   "metadata": {},
   "outputs": [
    {
     "data": {
      "text/plain": [
       "[1, 3.5, True, 'Vijay', 7.7, False, (10+5j)]"
      ]
     },
     "execution_count": 123,
     "metadata": {},
     "output_type": "execute_result"
    }
   ],
   "source": [
    "complx\n"
   ]
  },
  {
   "cell_type": "code",
   "execution_count": 124,
   "metadata": {},
   "outputs": [
    {
     "name": "stdout",
     "output_type": "stream",
     "text": [
      "<type 'int'>\n",
      "<type 'float'>\n",
      "<type 'bool'>\n",
      "<type 'str'>\n",
      "<type 'float'>\n",
      "<type 'bool'>\n",
      "<type 'complex'>\n"
     ]
    }
   ],
   "source": [
    "for i in complx:\n",
    "    print(type(i))\n",
    "    "
   ]
  },
  {
   "cell_type": "code",
   "execution_count": 127,
   "metadata": {},
   "outputs": [
    {
     "name": "stdout",
     "output_type": "stream",
     "text": [
      "1\n",
      "3.5\n",
      "True\n",
      "7.7\n",
      "False\n",
      "(10+5j)\n"
     ]
    }
   ],
   "source": [
    "# print all the values except string type\n",
    "for i in complx:\n",
    "    if type(i)==str:\n",
    "        continue\n",
    "    print(i)\n",
    "    "
   ]
  },
  {
   "cell_type": "code",
   "execution_count": 130,
   "metadata": {},
   "outputs": [
    {
     "name": "stdout",
     "output_type": "stream",
     "text": [
      "1\n",
      "3.5\n",
      "True\n",
      "7.7\n",
      "False\n",
      "(10+5j)\n"
     ]
    }
   ],
   "source": [
    "# using isinstance() print all the values except string type\n",
    "\n",
    "for i in complx:\n",
    "    if isinstance(i,str):\n",
    "        continue\n",
    "    print(i)"
   ]
  },
  {
   "cell_type": "code",
   "execution_count": null,
   "metadata": {},
   "outputs": [],
   "source": []
  }
 ],
 "metadata": {
  "kernelspec": {
   "display_name": "Python 2",
   "language": "python",
   "name": "python2"
  },
  "language_info": {
   "codemirror_mode": {
    "name": "ipython",
    "version": 2
   },
   "file_extension": ".py",
   "mimetype": "text/x-python",
   "name": "python",
   "nbconvert_exporter": "python",
   "pygments_lexer": "ipython2",
   "version": "2.7.16"
  }
 },
 "nbformat": 4,
 "nbformat_minor": 2
}
